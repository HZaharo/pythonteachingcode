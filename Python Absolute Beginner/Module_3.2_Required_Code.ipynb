{
  "cells": [
    {
      "attachments": {},
      "cell_type": "markdown",
      "metadata": {
        "collapsed": true
      },
      "source": [
        "#  Module 3 Required Coding Activity  \n",
        "Introduction to Python Unit 1 \n",
        "\n",
        "This is an activity based on code similar to the Jupyter Notebook **`Practice_MOD03_1-4_IntroPy.ipynb`** and **`Practice_MOD03_1-5_IntroPy.ipynb`** which you may have completed as practice.\n",
        "\n",
        ">This program requires the use of **`if, elif, else`**, and casting between strings and numbers. The program should use the various code syntax covered in module 3.  \n",
        "> \n",
        ">The program must result in print output using numeric input similar to that shown in the sample below.\n",
        ">You must include your full name in the input prompt. See sample input below for more detail.\n",
        "\n",
        "## Program: Cheese Order Function   \n",
        "- define function with max, min, price, and order_amount parameters\n",
        "- set default values for maximum and minimum order parameters  \n",
        "- set default value for price parameter\n",
        "- cast order_amount and other arguments to numbers  \n",
        "- check order_amount and give message checking against  \n",
        "  - over maximum\n",
        "  - under minimum\n",
        "- else within maximum and minimum give message with calculated price \n",
        "- call your function using order weight input from user\n",
        "\n",
        "\n",
        "Sample input and output:\n",
        "```\n",
        "[YOUR FULL NAME GOES HERE], enter cheese order weight (numeric value): 113\n",
        "113.0 is more than currently available stock\n",
        "```\n",
        "\n",
        "```\n",
        "[YOUR FULL NAME GOES HERE], enter cheese order weight (numeric value): .15\n",
        "0.15 is below minimum order amount\n",
        "```  \n",
        "\n",
        "```\n",
        "[YOUR FULL NAME GOES HERE], enter cheese order weight (numeric value): 2\n",
        "2.0 costs $15.98\n",
        "```  "
      ]
    },
    {
      "cell_type": "code",
      "execution_count": 21,
      "metadata": {
        "trusted": false
      },
      "outputs": [
        {
          "name": "stdout",
          "output_type": "stream",
          "text": [
            "Harrison Zaharogiannis 25.0 lbs of cheese costs $ 249.75\n"
          ]
        },
        {
          "ename": "",
          "evalue": "",
          "output_type": "error",
          "traceback": [
            "\u001b[1;31mThe Kernel crashed while executing code in the current cell or a previous cell. \n",
            "\u001b[1;31mPlease review the code in the cell(s) to identify a possible cause of the failure. \n",
            "\u001b[1;31mClick <a href='https://aka.ms/vscodeJupyterKernelCrash'>here</a> for more info. \n",
            "\u001b[1;31mView Jupyter <a href='command:jupyter.viewOutput'>log</a> for further details."
          ]
        }
      ],
      "source": [
        "# [ ] create fucntion, call and test \n",
        "# Define the cheese order function\n",
        "\n",
        "def cheese_order(name, order_amount, max_order=69, min_order=0.5, price_per_lb=9.99):\n",
        "    order_amount = float(order_amount)\n",
        "    \n",
        "    if order_amount > max_order:\n",
        "        print(full_name, \"more than currently available stock\")\n",
        "    elif order_amount < min_order:\n",
        "        print(full_name, \"below minimum order amount\")\n",
        "    else:\n",
        "        total_price = order_amount * price_per_lb\n",
        "        print(full_name, order_amount, 'lbs of cheese costs $', total_price)\n",
        "\n",
        "full_name = input(\"Your full name goes here: \")\n",
        "order_weight = input(\"Enter cheese order weight (numeric value): \") \n",
        "\n",
        "cheese_order(full_name, order_weight)\n",
        "\n"
      ]
    },
    {
      "cell_type": "markdown",
      "metadata": {},
      "source": [
        "Submit this by creating a python file (.py) and submitting it in D2L. Be sure to test that it works."
      ]
    }
  ],
  "metadata": {
    "kernelspec": {
      "display_name": "Python 3",
      "language": "python",
      "name": "python3"
    },
    "language_info": {
      "codemirror_mode": {
        "name": "ipython",
        "version": 3
      },
      "file_extension": ".py",
      "mimetype": "text/x-python",
      "name": "python",
      "nbconvert_exporter": "python",
      "pygments_lexer": "ipython3",
      "version": "3.13.1"
    }
  },
  "nbformat": 4,
  "nbformat_minor": 1
}
