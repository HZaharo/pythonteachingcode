{
 "cells": [
  {
   "cell_type": "markdown",
   "metadata": {},
   "source": [
    "# Module 4 Practice\n",
    "## Nested Conditionals\n",
    "<font size=\"5\" color=\"#00A0B2\"  face=\"verdana\"> <B>Student will be able to</B></font>\n",
    "- create nested conditional logic in code  \n",
    "- print format print using escape sequence (**\\**)"
   ]
  },
  {
   "cell_type": "markdown",
   "metadata": {},
   "source": [
    "# &nbsp;\n",
    "<font size=\"6\" color=\"#B24C00\"  face=\"verdana\"> <B>Tasks</B></font>  "
   ]
  },
  {
   "cell_type": "code",
   "execution_count": 3,
   "metadata": {},
   "outputs": [
    {
     "name": "stdout",
     "output_type": "stream",
     "text": [
      "The new line character is \"\\n\"\n"
     ]
    }
   ],
   "source": [
    "# [ ] print a string that outputs the following exactly: The new line character is \"\\n\"\n",
    "print(\"The new line character is \\\"\\\\n\\\"\")\n"
   ]
  },
  {
   "cell_type": "code",
   "execution_count": 4,
   "metadata": {},
   "outputs": [
    {
     "name": "stdout",
     "output_type": "stream",
     "text": [
      "\"That's how we escape!\"\n"
     ]
    }
   ],
   "source": [
    "# [ ] print output that is exactly (with quotes): \"That's how we escape!\"\n",
    "print(\"\\\"That's how we escape!\\\"\")\n"
   ]
  },
  {
   "cell_type": "code",
   "execution_count": 5,
   "metadata": {},
   "outputs": [
    {
     "name": "stdout",
     "output_type": "stream",
     "text": [
      "1\tone\n",
      "22\ttwo\n",
      "333\tthree\n"
     ]
    }
   ],
   "source": [
    "# [ ] with only 1 print statement and using No Space Characters, output the text commented below  \n",
    "\n",
    "# 1       one\n",
    "# 22      two\n",
    "# 333     three\n",
    "\n",
    "print(\"1\\tone\\n22\\ttwo\\n333\\tthree\")"
   ]
  },
  {
   "cell_type": "markdown",
   "metadata": {},
   "source": [
    "# &nbsp;\n",
    "## Program: quote_me() Function\n",
    "quote_me takes a string argument and returns a string that will display surrounded with **added double quotes** if printed  \n",
    "- check if passed string starts with a double quote (`\"\\\"\"`), then surround string with single quotations \n",
    "- if the passed string starts with single quote, or if doesn't start with a quotation mark, then surround with double quotations  \n",
    "\n",
    "Test the function code passing string input as the argument to quote_me() "
   ]
  },
  {
   "cell_type": "code",
   "execution_count": 9,
   "metadata": {},
   "outputs": [
    {
     "name": "stdout",
     "output_type": "stream",
     "text": [
      "\"Hello, World\"\n"
     ]
    }
   ],
   "source": [
    "# [ ] create and test quote_me()\n",
    "\n",
    "def quote_me(text):\n",
    "    if text.startswith('\"\"'):\n",
    "        return f\"'{text}'\"\n",
    "    else:\n",
    "        return f'\"{text}\"'\n",
    "\n",
    "print(quote_me(\"Hello, World\"))"
   ]
  },
  {
   "cell_type": "markdown",
   "metadata": {},
   "source": [
    "# &nbsp;\n",
    "### Program: shirt order \n",
    "First get input for color and size  \n",
    "- White has sizes L, M \n",
    "- Blue has sizes M, S  \n",
    "\n",
    "print available or unavailable, then  \n",
    "print the order confirmation of color and size  \n",
    "\n",
    "*\n",
    "**hint**: set a variable \"available = False\" before nested if statements and  \n",
    "change to True if color and size are avaliable*"
   ]
  },
  {
   "cell_type": "code",
   "execution_count": 14,
   "metadata": {},
   "outputs": [
    {
     "name": "stdout",
     "output_type": "stream",
     "text": [
      "Sorry, the Blue shirt in L is unavailable.\n"
     ]
    }
   ],
   "source": [
    "# [ ] create shirt order using nested if \n",
    "\n",
    "def shirt_order():\n",
    "    color = input(\"Enter shirt color (White/Blue): \").capitalize()\n",
    "    size = input(\"Enter shirt size (L/M/S): \").capitalize()\n",
    "    \n",
    "    available = False\n",
    "    \n",
    "    if color == \"White\":\n",
    "        if size in [\"L\", \"M\"]:\n",
    "            available = True\n",
    "    elif color == \"Blue\":\n",
    "        if size in [\"M\", \"S\"]:\n",
    "            available = True\n",
    "    \n",
    "    if available:\n",
    "        print(\"Your order:\",color,\"shirt in size\",size,\"is available.\")\n",
    "    else:\n",
    "        print(\"Sorry, the\",color, \"shirt in\",size,\"is unavailable.\")\n",
    "\n",
    "shirt_order()\n"
   ]
  },
  {
   "cell_type": "markdown",
   "metadata": {},
   "source": [
    "# &nbsp;\n",
    "## Program: str_analysis() Function\n",
    "Create the str_analysis() function that takes a string argument.  In the body of the function:\n",
    "- Check `if` string is digits  \n",
    "  - if digits: convert to `int` and check `if` greater than 99  \n",
    "    - if greater than 99, print a message about a \"big number\"  \n",
    "    - if not greater than 99, print message about \"small number\"    \n",
    "  - if not digits: check if string isalpha\n",
    "    - if isalpha print message about being all alpha\n",
    "    - if not isalpha print a message about being neither all alpha nor all digit  \n",
    "    \n",
    "call the function with a string from user input "
   ]
  },
  {
   "cell_type": "code",
   "execution_count": 17,
   "metadata": {},
   "outputs": [
    {
     "name": "stdout",
     "output_type": "stream",
     "text": [
      "Small number\n",
      "Your order: White shirt in size L is available.\n"
     ]
    }
   ],
   "source": [
    "# [ ] create and test str_analysis()\n",
    "\n",
    "def shirt_order():\n",
    "    color = input(\"Enter shirt color (White/Blue): \").capitalize()\n",
    "    size = input(\"Enter shirt size (L/M/S): \").capitalize()\n",
    "    \n",
    "    available = False\n",
    "    \n",
    "    if color == \"White\":\n",
    "        if size in [\"L\", \"M\"]:\n",
    "            available = True\n",
    "    elif color == \"Blue\":\n",
    "        if size in [\"M\", \"S\"]:\n",
    "            available = True\n",
    "    \n",
    "    if available:\n",
    "        print(\"Your order:\",color,\"shirt in size\",size,\"is available.\")\n",
    "    else:\n",
    "        print(\"Sorry, the\",color, \"shirt in\",size,\"is unavailable.\")\n",
    "\n",
    "def str_analysis(text):\n",
    "    if text.isdigit():\n",
    "        num = int(text)\n",
    "        if num > 99:\n",
    "            print(\"Big number\")\n",
    "        else:\n",
    "            print(\"Small number\")\n",
    "    elif text.isalpha():\n",
    "        print(\"The input is all alphabetic characters.\")\n",
    "    else:\n",
    "        print(\"The input is neither all alphabetic nor all digits.\")\n",
    "\n",
    "\n",
    "user_input = input(\"Enter a string: \")\n",
    "str_analysis(user_input)\n",
    "\n",
    "shirt_order()       "
   ]
  },
  {
   "cell_type": "markdown",
   "metadata": {
    "collapsed": true
   },
   "source": [
    "# &nbsp;  \n",
    "### Program: ticket_check() - finds out if a seat is available  \n",
    "Call ticket_check() function with 2 arguments: *section* and *seats* requested and return True or False  \n",
    "- **section** is a string and expects: general, floor\n",
    "- **seats** is an integer and expects: 1 - 10  \n",
    "\n",
    "Check for valid section and seats\n",
    "- if section is *general* (or use startswith \"g\")  \n",
    "  - if seats is 1-10 return True \n",
    "- if section is *floor* (or use starts with \"f\")\n",
    "  - if seats is 1-4 return True  \n",
    "\n",
    "otherwise return False"
   ]
  },
  {
   "cell_type": "code",
   "execution_count": 19,
   "metadata": {},
   "outputs": [
    {
     "name": "stdout",
     "output_type": "stream",
     "text": [
      "True\n"
     ]
    }
   ],
   "source": [
    "# [ ] create and call ticket_check()\n",
    "#Call ticket_check() function with 2 arguments: section and seats requested and return True or False\n",
    "\n",
    "def ticket_check(section, seats):\n",
    "    if section.lower().startswith(\"g\"):\n",
    "        return 1 <= seats <= 10\n",
    "    elif section.lower().startswith(\"f\"):\n",
    "        return 1 <= seats <= 4\n",
    "    return False\n",
    "\n",
    "section_input = input(\"Enter section (general/floor): \").lower()\n",
    "seats_input = int(input(\"Enter number of seats: \"))\n",
    "print(ticket_check(section_input, seats_input))"
   ]
  },
  {
   "cell_type": "markdown",
   "metadata": {},
   "source": [
    "# Module 4 Practice 2\n",
    "## `while()` loops & increments\n",
    "<font size=\"5\" color=\"#00A0B2\"  face=\"verdana\"> <B>Student will be able to</B></font>\n",
    "- create forever loops using `while` and `break`\n",
    "- use incrementing variables in a while loop\n",
    "- control while loops using Boolean operators"
   ]
  },
  {
   "cell_type": "code",
   "execution_count": 28,
   "metadata": {},
   "outputs": [
    {
     "name": "stdout",
     "output_type": "stream",
     "text": [
      "Total sum: 28\n"
     ]
    }
   ],
   "source": [
    "# [ ] use a \"forever\" while loop to get user input of integers to add to sum, \n",
    "# until a non-digit is entered, then break the loop and print sum\n",
    "\n",
    "def sum_numbers():\n",
    "    sum = 0  \n",
    "    while True:\n",
    "        sum_input = input(\"Enter an integer to add to sum (input exit to stop): \")\n",
    "        if sum_input.isdigit():\n",
    "            sum += int(sum_input)\n",
    "        else:\n",
    "            break\n",
    "    print(\"Total sum:\", sum)\n",
    "\n",
    "sum_numbers()"
   ]
  },
  {
   "cell_type": "code",
   "execution_count": 29,
   "metadata": {},
   "outputs": [
    {
     "name": "stdout",
     "output_type": "stream",
     "text": [
      "yellow is incorrect. Try again! Attempts left: 3\n",
      "green is incorrect. Try again! Attempts left: 2\n",
      "Yes red is correct!\n",
      "\n"
     ]
    }
   ],
   "source": [
    "# [ ] use a while True loop (forever loop) to give 4 chances for input of a correct color in a rainbow\n",
    "# rainbow = \"red orange yellow green blue indigo violet\"\n",
    "colors = (\"red\", \"orange\", \"yellow\", \"green\", \"blue\", \"indigo\", \"violet\")\n",
    "secret_color = \"red\"\n",
    "attempts = 4\n",
    "\n",
    "while attempts > 0:\n",
    "    color_guess = input(\"Guess a color of the rainbow: \")\n",
    "    if color_guess == secret_color:\n",
    "        print(\"Yes\", color_guess,\"is correct!\\n\")\n",
    "        break\n",
    "    else:\n",
    "            attempts -= 1\n",
    "            if attempts > 0:\n",
    "                print(color_guess, \"is incorrect. Try again! Attempts left:\", attempts)\n",
    "            else:\n",
    "                print(\"Sorry, you're out of attempts. The correct color was:\", secret_color)\n",
    "\n"
   ]
  },
  {
   "cell_type": "code",
   "execution_count": 31,
   "metadata": {},
   "outputs": [
    {
     "name": "stdout",
     "output_type": "stream",
     "text": [
      "Invalid format. Make sure every word is capitalized.\n",
      "Valid book title entered: The Great Gatsby\n"
     ]
    }
   ],
   "source": [
    "# [ ] Get input for a book title, keep looping while input is Not in title format (title is every word capitalized)\n",
    "\n",
    "def get_book_title():\n",
    "    while True:\n",
    "        title = input(\"Enter a book title: \")\n",
    "        if title.istitle():\n",
    "            print(\"Valid book title entered:\", title)\n",
    "            break\n",
    "        else:\n",
    "            print(\"Invalid format. Make sure every word is capitalized.\")\n",
    "\n",
    "get_book_title()\n"
   ]
  },
  {
   "cell_type": "code",
   "execution_count": 37,
   "metadata": {},
   "outputs": [
    {
     "name": "stdout",
     "output_type": "stream",
     "text": [
      "Incorrect, try again.\n",
      "Correct! Well done.\n"
     ]
    }
   ],
   "source": [
    "# [ ] create a math quiz question and ask for the solution until the input is correct\n",
    "\n",
    "def math_quiz():\n",
    "    num1 = 5\n",
    "    num2 = 7\n",
    "    solution = num1 + num2\n",
    "    \n",
    "    while True:\n",
    "        try:\n",
    "            user_answer = int(input(f\"What is {num1} + {num2}? \"))\n",
    "            if user_answer == solution:\n",
    "                print(\"Correct! Well done.\")\n",
    "                break\n",
    "            else:\n",
    "                print(\"Incorrect, try again.\")\n",
    "        except ValueError:\n",
    "            print(\"Please enter a valid number.\")\n",
    "\n",
    "math_quiz()\n",
    "\n"
   ]
  },
  {
   "cell_type": "markdown",
   "metadata": {},
   "source": [
    "### Fix the Error"
   ]
  },
  {
   "cell_type": "code",
   "execution_count": 41,
   "metadata": {},
   "outputs": [
    {
     "name": "stdout",
     "output_type": "stream",
     "text": [
      "you win!\n",
      "you win!\n",
      "Game ended\n"
     ]
    }
   ],
   "source": [
    "# [ ] review the code, run, fix the error\n",
    "tickets = int(input(\"enter tickets remaining (0 to quit): \"))\n",
    "\n",
    "while tickets > 0:\n",
    "        # if tickets are multiple of 3 then \"winner\"\n",
    "    if int(tickets/3) == tickets/3:\n",
    "        print(\"you win!\")\n",
    "    else:\n",
    "        print(\"sorry, not a winner.\")\n",
    "    tickets = int(input(\"enter tickets remaining (0 to quit): \"))\n",
    "\n",
    "print(\"Game ended\")\n",
    "    \n"
   ]
  },
  {
   "cell_type": "markdown",
   "metadata": {},
   "source": [
    "### create a function: quiz_item()  that asks a question and tests if input is correct  \n",
    "- quiz_item()has 2 parameter **strings**: question and solution  \n",
    "- shows question, gets answer input  \n",
    "- returns True if `answer == solution` or continues to ask question until correct answer is provided  \n",
    "- use a while loop\n",
    "\n",
    "create 2 or more quiz questions that call quiz_item()  \n",
    "**Hint**: provide multiple choice or T/F answers"
   ]
  },
  {
   "cell_type": "code",
   "execution_count": 44,
   "metadata": {},
   "outputs": [
    {
     "name": "stdout",
     "output_type": "stream",
     "text": [
      "Correct! Let's move on.\n",
      "Correct! You've completed the quiz.\n"
     ]
    }
   ],
   "source": [
    "# Create quiz_item() and 2 or more quiz questions that call quiz_item()\n",
    "def quiz_item(question, solution):\n",
    "    while True:\n",
    "        answer = input(question + \" \")\n",
    "        if answer.lower() == solution.lower():\n",
    "            return True\n",
    "        else:\n",
    "            print(\"Incorrect answer, please try again.\")\n",
    "\n",
    "#quiz_item()has 2 parameter strings: question and solution\n",
    "question_1 = \"What is the capital of Greece? (a) Athens (b) Kalamata (c) Rome\"\n",
    "#because I am Greek\n",
    "solution_1 = \"a\"\n",
    "\n",
    "question_2 = \"Is Greek the coolest language? (T/F)\"\n",
    "solution_2 = \"T\"\n",
    "\n",
    "\n",
    "if quiz_item(question_1, solution_1):\n",
    "    print(\"Correct! Let's move on.\")\n",
    "\n",
    "if quiz_item(question_2, solution_2):\n",
    "    print(\"Correct! You've completed the quiz.\")"
   ]
  },
  {
   "cell_type": "markdown",
   "metadata": {
    "collapsed": true
   },
   "source": [
    "[Terms of use](http://go.microsoft.com/fwlink/?LinkID=206977) &nbsp; [Privacy & cookies](https://go.microsoft.com/fwlink/?LinkId=521839) &nbsp; © 2017 Microsoft"
   ]
  }
 ],
 "metadata": {
  "anaconda-cloud": {},
  "kernelspec": {
   "display_name": "Python 3",
   "language": "python",
   "name": "python3"
  },
  "language_info": {
   "codemirror_mode": {
    "name": "ipython",
    "version": 3
   },
   "file_extension": ".py",
   "mimetype": "text/x-python",
   "name": "python",
   "nbconvert_exporter": "python",
   "pygments_lexer": "ipython3",
   "version": "3.13.2"
  }
 },
 "nbformat": 4,
 "nbformat_minor": 1
}
