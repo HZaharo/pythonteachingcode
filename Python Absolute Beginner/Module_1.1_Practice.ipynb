{
 "cells": [
  {
   "cell_type": "markdown",
   "metadata": {
    "collapsed": true
   },
   "source": [
    "# Module 1 Practice 1\n",
    "##  Getting started with Python in Jupyter Notebooks\n",
    "### notebooks, comments, print(), type(), addition, errors and art\n",
    "\n",
    "<font size=\"5\" color=\"#00A0B2\"  face=\"verdana\"> <B>Student will be able to</B></font>\n",
    "- use Python 3 in Jupyter notebooks\n",
    "- write working code using `print()` and `#` comments  \n",
    "- write working code using `type()` and variables\n",
    "- combine strings using string addition (+)\n",
    "- add numbers in code (+)\n",
    "- troubleshoot errors\n",
    "- create character art  \n",
    "\n",
    "# &nbsp;\n",
    ">**note:** the **[ ]** indicates student has a task to complete  \n",
    "  \n",
    ">**reminder:** to run code and save changes: student should upload or clone a copy of notebooks \n",
    "\n",
    "#### notebook use\n",
    "- [ ] insert a **code cell** below   \n",
    "- [ ] enter the following Python code, including the comment: \n",
    "```python \n",
    "# [ ] print 'Hello!' and remember to save notebook!\n",
    "print('Hello!')\n",
    "```\n",
    "Then run the code - the output should be:  \n",
    "`Hello!`"
   ]
  },
  {
   "cell_type": "code",
   "execution_count": 1,
   "metadata": {},
   "outputs": [
    {
     "name": "stdout",
     "output_type": "stream",
     "text": [
      "Hello!\n"
     ]
    }
   ],
   "source": [
    "print('Hello!')"
   ]
  },
  {
   "cell_type": "markdown",
   "metadata": {},
   "source": [
    "#### run the cell below   \n",
    "- [ ] use **Ctrl + Enter**  \n",
    "- [ ] use **Shift + Enter**    "
   ]
  },
  {
   "cell_type": "code",
   "execution_count": 2,
   "metadata": {},
   "outputs": [
    {
     "name": "stdout",
     "output_type": "stream",
     "text": [
      "watch for the cat\n"
     ]
    }
   ],
   "source": [
    "print('watch for the cat')"
   ]
  },
  {
   "cell_type": "markdown",
   "metadata": {},
   "source": [
    "#### Student's Notebook editing\n",
    "- [ ] Edit **this** notebook Markdown cell replacing the word \"Student's\" above with your name\n",
    "- [ ] Run the cell to display the formatted text\n",
    "- [ ] Run any 'markdown' cells that are in edit mode, so they are easier to read"
   ]
  },
  {
   "cell_type": "markdown",
   "metadata": {},
   "source": [
    "#### [ ] convert \\*this\\* cell from markdown to a code cell, then run it  \n",
    "print('Run as a code cell')\n"
   ]
  },
  {
   "cell_type": "markdown",
   "metadata": {},
   "source": [
    "##  # comments\n",
    "create a code comment that identifies this notebook, containing your name and the date"
   ]
  },
  {
   "cell_type": "code",
   "execution_count": null,
   "metadata": {
    "collapsed": true
   },
   "outputs": [],
   "source": [
    "#This notebook belongs to Harrison Zaharogiannis, 01/23/2025"
   ]
  },
  {
   "cell_type": "markdown",
   "metadata": {},
   "source": [
    "#### use print() to \n",
    "- [ ] print [**your_name**]\n",
    "- [ ] print **is using python!**"
   ]
  },
  {
   "cell_type": "code",
   "execution_count": 4,
   "metadata": {},
   "outputs": [
    {
     "name": "stdout",
     "output_type": "stream",
     "text": [
      "Harrison Zaharogiannis\n",
      "Harrison Zaharogiannis is using python!\n"
     ]
    }
   ],
   "source": [
    "# [ ] print your name\n",
    "name = \"Harrison Zaharogiannis\"\n",
    "print(\"Harrison Zaharogiannis\")\n",
    "# [ ] print \"is using Python\"\n",
    "print(name,\"is using python!\")\n"
   ]
  },
  {
   "cell_type": "markdown",
   "metadata": {},
   "source": [
    "Output above should be:  \n",
    "`Your Name  \n",
    "is using Python!`  "
   ]
  },
  {
   "cell_type": "markdown",
   "metadata": {},
   "source": [
    "#### use variables in print()\n",
    "- [ ] create a variable **your_name** and assign it a string containing your name\n",
    "- [ ] print **your_name**"
   ]
  },
  {
   "cell_type": "code",
   "execution_count": 5,
   "metadata": {
    "collapsed": true
   },
   "outputs": [
    {
     "name": "stdout",
     "output_type": "stream",
     "text": [
      "Harrison Zaharogiannis\n"
     ]
    }
   ],
   "source": [
    "# [ ] create a variable your_name and assign it a sting containing your name\n",
    "name = \"Harrison Zaharogiannis\"\n",
    "#[ ] print your_name\n",
    "print(name)\n"
   ]
  },
  {
   "cell_type": "markdown",
   "metadata": {},
   "source": [
    "#### create more string variables\n",
    "- **[ ]** create variables as directed below\n",
    "- **[ ]** print the variables"
   ]
  },
  {
   "cell_type": "code",
   "execution_count": 7,
   "metadata": {},
   "outputs": [
    {
     "name": "stdout",
     "output_type": "stream",
     "text": [
      "\"Love Yourz\" - J. Cole 13 18\n"
     ]
    }
   ],
   "source": [
    "# [ ] create variables and assign values for: favorite_song, shoe_size, lucky_number\n",
    "favorite_song = '\"Love Yourz\" - J. Cole'\n",
    "shoe_size = \"13\"\n",
    "lucky_number = \"18\"\n",
    "\n",
    "# [ ] print the value of each variable favorite_song, shoe_size, and lucky_number\n",
    "print(favorite_song,shoe_size,lucky_number)\n",
    "\n"
   ]
  },
  {
   "cell_type": "markdown",
   "metadata": {},
   "source": [
    "#### use string addition\n",
    "- **[ ]**  print the above string variables (favorite_song, shoe_size, lucky_number) combined with a description by using **string addition**\n",
    ">for example favorite_song displayed as:  \n",
    "`favorite song is happy birthday`"
   ]
  },
  {
   "cell_type": "code",
   "execution_count": 8,
   "metadata": {},
   "outputs": [
    {
     "name": "stdout",
     "output_type": "stream",
     "text": [
      "My favortie song is \"Love Yourz\" - J. Cole\n",
      "My shoe size is 13\n",
      "My lucky number is 18\n"
     ]
    }
   ],
   "source": [
    "# [ ] print favorite_song with description\n",
    "print(\"My favortie song is\",favorite_song)\n",
    "\n",
    "# [ ] print shoe_size with description\n",
    "print(\"My shoe size is\",shoe_size)\n",
    "\n",
    "# [ ] print lucky_number with description\n",
    "print(\"My lucky number is\",lucky_number)\n"
   ]
  },
  {
   "cell_type": "markdown",
   "metadata": {},
   "source": [
    "##### more string addition\n",
    "- **[ ]** make a single string (sentence) in a variable called favorite_lucky_shoe using **string addition** with favorite_song, shoe_size, lucky_number variables and other strings as needed \n",
    "- **[ ]** print the value of the favorite_lucky_shoe variable string\n",
    "> sample output:  \n",
    "`For singing happy birthday 8.5 times, you will be fined $25`"
   ]
  },
  {
   "cell_type": "code",
   "execution_count": 12,
   "metadata": {},
   "outputs": [
    {
     "name": "stdout",
     "output_type": "stream",
     "text": [
      "('I listen to', '\"Love Yourz\" - J. Cole', 'atleast', '13', 'and at most', '18', 'times per week.')\n"
     ]
    }
   ],
   "source": [
    "# assign favorite_lucky_shoe using\n",
    "favorite_lucky_shoe = \"I listen to\", favorite_song, \"atleast\", shoe_size, \"and at most\", lucky_number, \"times per week.\"\n",
    "print(favorite_lucky_shoe)\n"
   ]
  },
  {
   "cell_type": "markdown",
   "metadata": {},
   "source": [
    "### print() art"
   ]
  },
  {
   "cell_type": "markdown",
   "metadata": {},
   "source": [
    "#### use `print()` and the asterisk **\\*** to create the following shapes\n",
    "- [ ] diagonal line  \n",
    "- [ ] rectangle  \n",
    "- [ ] smiley face"
   ]
  },
  {
   "cell_type": "code",
   "execution_count": 16,
   "metadata": {},
   "outputs": [
    {
     "name": "stdout",
     "output_type": "stream",
     "text": [
      "*     \n",
      " *    \n",
      "  *   \n",
      "   *  \n",
      "    * \n",
      "         \n",
      "******\n",
      "*    *\n",
      "*    *\n",
      "******\n",
      "         \n",
      "*     *\n",
      "         \n",
      "*     *\n",
      " ***** \n"
     ]
    }
   ],
   "source": [
    "# [ ] print a diagonal using \"*\"\n",
    "print(\"*     \")\n",
    "print(\" *    \")\n",
    "print(\"  *   \")\n",
    "print(\"   *  \")\n",
    "print(\"    * \")\n",
    "print(\"         \")\n",
    "\n",
    "# [ ] rectangle using \"*\"\n",
    "print(\"******\")\n",
    "print(\"*    *\")\n",
    "print(\"*    *\")\n",
    "print(\"******\")\n",
    "print(\"         \")\n",
    "# [ ] smiley using \"*\"\n",
    "print( \"*     *\" ) \n",
    "print(\"         \")\n",
    "print( \"*     *\" )\n",
    "print( \" ***** \" )\n",
    "\n"
   ]
  },
  {
   "cell_type": "markdown",
   "metadata": {},
   "source": [
    "#### Using `type()`\n",
    "-**[ ]** calulate the *type* using `type()`"
   ]
  },
  {
   "cell_type": "code",
   "execution_count": 27,
   "metadata": {},
   "outputs": [
    {
     "data": {
      "text/plain": [
       "str"
      ]
     },
     "execution_count": 27,
     "metadata": {},
     "output_type": "execute_result"
    }
   ],
   "source": [
    "# [ ] display the type of 'your name' (use single quotes)\n",
    "type('Harrison Z')\n",
    "\n"
   ]
  },
  {
   "cell_type": "code",
   "execution_count": 26,
   "metadata": {},
   "outputs": [
    {
     "data": {
      "text/plain": [
       "str"
      ]
     },
     "execution_count": 26,
     "metadata": {},
     "output_type": "execute_result"
    }
   ],
   "source": [
    "# [ ] display the type of \"save your notebook!\" (use double quotes)\n",
    "type(\"save your notebook!\")\n",
    "\n"
   ]
  },
  {
   "cell_type": "code",
   "execution_count": 25,
   "metadata": {},
   "outputs": [
    {
     "data": {
      "text/plain": [
       "str"
      ]
     },
     "execution_count": 25,
     "metadata": {},
     "output_type": "execute_result"
    }
   ],
   "source": [
    "# [ ] display the type of \"25\" (use quotes)\n",
    "type('25')\n",
    "\n",
    "\n"
   ]
  },
  {
   "cell_type": "code",
   "execution_count": 29,
   "metadata": {},
   "outputs": [
    {
     "data": {
      "text/plain": [
       "str"
      ]
     },
     "execution_count": 29,
     "metadata": {},
     "output_type": "execute_result"
    }
   ],
   "source": [
    "# [ ] display the type of \"save your notebook \" + 'your name'\n",
    "type(\"save your notebook \"+\"Harrison\")\n",
    "\n"
   ]
  },
  {
   "cell_type": "code",
   "execution_count": 28,
   "metadata": {},
   "outputs": [
    {
     "data": {
      "text/plain": [
       "int"
      ]
     },
     "execution_count": 28,
     "metadata": {},
     "output_type": "execute_result"
    }
   ],
   "source": [
    "# [ ] display the type of 25 (no quotes)\n",
    "type(25)\n",
    "\n"
   ]
  },
  {
   "cell_type": "code",
   "execution_count": 31,
   "metadata": {},
   "outputs": [
    {
     "data": {
      "text/plain": [
       "int"
      ]
     },
     "execution_count": 31,
     "metadata": {},
     "output_type": "execute_result"
    }
   ],
   "source": [
    "# [ ] display the type of 25 + 10 \n",
    "type(25 + 10)\n",
    "\n"
   ]
  },
  {
   "cell_type": "code",
   "execution_count": 32,
   "metadata": {},
   "outputs": [
    {
     "data": {
      "text/plain": [
       "float"
      ]
     },
     "execution_count": 32,
     "metadata": {},
     "output_type": "execute_result"
    }
   ],
   "source": [
    "# [ ] display the type of 1.55\n",
    "type(1.55)\n",
    "\n"
   ]
  },
  {
   "cell_type": "code",
   "execution_count": 33,
   "metadata": {},
   "outputs": [
    {
     "data": {
      "text/plain": [
       "float"
      ]
     },
     "execution_count": 33,
     "metadata": {},
     "output_type": "execute_result"
    }
   ],
   "source": [
    "# [ ] display the type of 1.55 + 25\n",
    "type(1.55 + 25)\n",
    "\n"
   ]
  },
  {
   "cell_type": "markdown",
   "metadata": {},
   "source": [
    "#### Find the type of variables\n",
    "- **[ ]** run the cell below to make the variables available to be used in other code\n",
    "- **[ ]** display the data type as directed in the cells that follow"
   ]
  },
  {
   "cell_type": "code",
   "execution_count": 34,
   "metadata": {
    "collapsed": true
   },
   "outputs": [],
   "source": [
    "# assignments ***RUN THIS CELL*** before starting the section\n",
    "\n",
    "student_name = \"Gus\"\n",
    "student_age = 16\n",
    "student_grade = 3.5\n",
    "student_id = \"ABC-000-000\"\n"
   ]
  },
  {
   "cell_type": "code",
   "execution_count": 35,
   "metadata": {},
   "outputs": [
    {
     "data": {
      "text/plain": [
       "str"
      ]
     },
     "execution_count": 35,
     "metadata": {},
     "output_type": "execute_result"
    }
   ],
   "source": [
    "# [ ] display the current type of the variable student_name\n",
    "type(student_name)\n",
    "\n"
   ]
  },
  {
   "cell_type": "code",
   "execution_count": 36,
   "metadata": {},
   "outputs": [
    {
     "data": {
      "text/plain": [
       "int"
      ]
     },
     "execution_count": 36,
     "metadata": {},
     "output_type": "execute_result"
    }
   ],
   "source": [
    "# [ ] display the type of student_age\n",
    "type(student_age)\n",
    "\n"
   ]
  },
  {
   "cell_type": "code",
   "execution_count": 37,
   "metadata": {},
   "outputs": [
    {
     "data": {
      "text/plain": [
       "float"
      ]
     },
     "execution_count": 37,
     "metadata": {},
     "output_type": "execute_result"
    }
   ],
   "source": [
    "# [ ] display the type of student_grade\n",
    "type(student_grade)\n",
    "\n"
   ]
  },
  {
   "cell_type": "code",
   "execution_count": 38,
   "metadata": {},
   "outputs": [
    {
     "data": {
      "text/plain": [
       "float"
      ]
     },
     "execution_count": 38,
     "metadata": {},
     "output_type": "execute_result"
    }
   ],
   "source": [
    "# [ ] display the type of student_age + student_grade\n",
    "type(student_age + student_grade)\n",
    "\n"
   ]
  },
  {
   "cell_type": "code",
   "execution_count": 39,
   "metadata": {},
   "outputs": [
    {
     "data": {
      "text/plain": [
       "str"
      ]
     },
     "execution_count": 39,
     "metadata": {},
     "output_type": "execute_result"
    }
   ],
   "source": [
    "# [ ] display the current type of student_id\n",
    "type(student_id)\n",
    "\n"
   ]
  },
  {
   "cell_type": "code",
   "execution_count": 40,
   "metadata": {},
   "outputs": [
    {
     "name": "stdout",
     "output_type": "stream",
     "text": [
      "ABC-234-618\n"
     ]
    }
   ],
   "source": [
    "# assign new value to student_id \n",
    "student_id = \"ABC-234-618\"\n",
    "\n",
    "# [ ] display the current of student_id\n",
    "print(student_id)\n",
    "\n"
   ]
  },
  {
   "cell_type": "markdown",
   "metadata": {
    "collapsed": true
   },
   "source": [
    "#### number integer addition\n",
    "\n",
    "- **[ ]** create variables (x, y, z) with integer values"
   ]
  },
  {
   "cell_type": "code",
   "execution_count": 41,
   "metadata": {
    "collapsed": true
   },
   "outputs": [],
   "source": [
    "# [ ] create integer variables (x, y, z) and assign them 1-3 digit integers (no decimals - no quotes)\n",
    "x = 6\n",
    "y = 1\n",
    "z = 8\n",
    "\n"
   ]
  },
  {
   "cell_type": "markdown",
   "metadata": {},
   "source": [
    "- **[ ]** insert a **code cell** below\n",
    "- **[ ]** create an integer variable named **xyz_sum** equal to the sum of x, y, and z\n",
    "- **[ ]** print the value of **xyz_sum** "
   ]
  },
  {
   "cell_type": "code",
   "execution_count": 42,
   "metadata": {},
   "outputs": [
    {
     "name": "stdout",
     "output_type": "stream",
     "text": [
      "15\n"
     ]
    }
   ],
   "source": [
    "xyz_sum = x + y + z\n",
    "\n",
    "print(xyz_sum)\n"
   ]
  },
  {
   "cell_type": "markdown",
   "metadata": {},
   "source": [
    "### Errors\n",
    "- **[ ]** troubleshoot and fix the errors below"
   ]
  },
  {
   "cell_type": "code",
   "execution_count": 43,
   "metadata": {},
   "outputs": [
    {
     "name": "stdout",
     "output_type": "stream",
     "text": [
      "Hello World!\n"
     ]
    }
   ],
   "source": [
    "# [ ] fix the error \n",
    "\n",
    "print(\"Hello World!\")    \n",
    "\n",
    "\n"
   ]
  },
  {
   "cell_type": "code",
   "execution_count": 45,
   "metadata": {},
   "outputs": [
    {
     "name": "stdout",
     "output_type": "stream",
     "text": [
      "strings have quotes and variables have names\n"
     ]
    }
   ],
   "source": [
    "# [ ] fix the error \n",
    "print(\"strings have quotes and variables have names\")\n",
    "\n"
   ]
  },
  {
   "cell_type": "code",
   "execution_count": 47,
   "metadata": {
    "collapsed": true
   },
   "outputs": [
    {
     "name": "stdout",
     "output_type": "stream",
     "text": [
      "I have $ 5\n"
     ]
    }
   ],
   "source": [
    "# [ ] fix the error \n",
    "print( \"I have $\" ,5)\n",
    "\n"
   ]
  },
  {
   "cell_type": "code",
   "execution_count": 48,
   "metadata": {},
   "outputs": [
    {
     "name": "stdout",
     "output_type": "stream",
     "text": [
      "always save the notebook\n"
     ]
    }
   ],
   "source": [
    "# [ ] fix the error \n",
    "print(\"always save the notebook\")\n",
    "      \n"
   ]
  },
  {
   "cell_type": "markdown",
   "metadata": {
    "collapsed": true
   },
   "source": [
    "## ASCII art\n",
    "- **[ ]** Display first name or initials as ASCII Art\n",
    "- **[ ]** Challenge: insert an additional code cell to make an ASCII picture"
   ]
  },
  {
   "cell_type": "code",
   "execution_count": 74,
   "metadata": {},
   "outputs": [],
   "source": [
    "# [ ] ASCII ART\n",
    "ascii_picture = \"\"\"\n",
    " /$$   /$$       /$$$$$$$$\n",
    "| $$  | $$      |_____ $$ \n",
    "| $$  | $$           /$$/ \n",
    "| $$$$$$$$          /$$/  \n",
    "| $$__  $$         /$$/   \n",
    "| $$  | $$        /$$/    \n",
    "| $$  | $$       /$$$$$$$$\n",
    "|__/  |__/      |________/\n",
    "  \"\"\".isascii"
   ]
  },
  {
   "cell_type": "code",
   "execution_count": 73,
   "metadata": {},
   "outputs": [],
   "source": [
    "# [ ] ASCII ART\n",
    "# I made squidward on ASCII Draw Studio\n",
    "ascii_picture = \"\"\"\n",
    "            XXXXXXXXXXXX           \n",
    "     XXXXXXX            XXXXX      \n",
    "  XXXX                      XXXX   \n",
    " XX                            XX  \n",
    " X                              X  \n",
    "XXX         XXXXXX       XXXXXXX X \n",
    "X                                X \n",
    "X              XXXX        XXXX  X \n",
    " XX            XXXX        XXXX XX \n",
    "   XX           XX          XX XX  \n",
    "     XXX             X   XX  XXX   \n",
    "        XX           X    XX X     \n",
    "        XX          XX     X XX XX \n",
    "       X            X      XX    XX\n",
    "       X     XXXXXXXX       XXX  XX\n",
    "        XXXXXX      X       X  XXXX\n",
    "                    XX     XX      \n",
    "                     XXXXXX      \n",
    "                     \"\"\".isascii"
   ]
  },
  {
   "cell_type": "markdown",
   "metadata": {},
   "source": [
    "# Module 1 Practice 2\n",
    "## Strings: input, testing, formatting\n",
    "<font size=\"5\" color=\"#00A0B2\"  face=\"verdana\"> <B>Student will be able to</B></font>\n",
    "- gather, store and use string `input()`  \n",
    "- format `print()` output  \n",
    "- test string characteristics  \n",
    "- format string output  \n",
    "- search for a string in a string  "
   ]
  },
  {
   "cell_type": "markdown",
   "metadata": {},
   "source": [
    "## input()\n",
    "getting input from users"
   ]
  },
  {
   "cell_type": "code",
   "execution_count": 56,
   "metadata": {
    "scrolled": true
   },
   "outputs": [
    {
     "name": "stdout",
     "output_type": "stream",
     "text": [
      "Save\n"
     ]
    }
   ],
   "source": [
    "# [ ] get user input for a variable named remind_me\n",
    "remind_me = input(\"Remind me to save: \")\n",
    "\n",
    "# [ ] print the value of the variable remind_me\n",
    "print(remind_me)\n"
   ]
  },
  {
   "cell_type": "code",
   "execution_count": 57,
   "metadata": {},
   "outputs": [
    {
     "name": "stdout",
     "output_type": "stream",
     "text": [
      "remeber Save\n"
     ]
    }
   ],
   "source": [
    "# use string addition to print \"remember: \" before the remind_me input string\n",
    "print(\"remeber\",remind_me)\n"
   ]
  },
  {
   "cell_type": "markdown",
   "metadata": {},
   "source": [
    "### Program: Meeting Details\n",
    "#### [ ] get user **input** for meeting subject and time\n",
    "`what is the meeting subject?: plan for graduation`  \n",
    "`what is the meeting time?: 3:00 PM on Monday`  \n",
    "\n",
    "#### [ ] print **output** with descriptive labels  \n",
    "`Meeting Subject: plan for graduation`  \n",
    "`Meeting Time:    3:00 PM on Monday`"
   ]
  },
  {
   "cell_type": "code",
   "execution_count": 59,
   "metadata": {},
   "outputs": [
    {
     "name": "stdout",
     "output_type": "stream",
     "text": [
      "plan for graduation\n",
      "3:00 on Monday\n"
     ]
    }
   ],
   "source": [
    "# [ ] get user input for 2 variables: meeting_subject and meeting_time\n",
    "meeting_subject = input(\"What will be covered during the meeting? \")\n",
    "meeting_time = input(\"What time will we be meeting? \")\n",
    "\n",
    "# [ ] use string addition to print meeting subject and time with labels\n",
    "print(meeting_subject)\n",
    "print(meeting_time)\n",
    "\n",
    "\n"
   ]
  },
  {
   "cell_type": "markdown",
   "metadata": {
    "collapsed": true
   },
   "source": [
    "## print() formatting \n",
    "### combining multiple strings separated by commas in the print() function"
   ]
  },
  {
   "cell_type": "code",
   "execution_count": 60,
   "metadata": {},
   "outputs": [
    {
     "name": "stdout",
     "output_type": "stream",
     "text": [
      "Wednesday is in the middle of the week\n"
     ]
    }
   ],
   "source": [
    "# [ ] print the combined strings \"Wednesday is\" and \"in the middle of the week\" \n",
    "print(\"Wednesday is\",\"in the middle of the week\")\n"
   ]
  },
  {
   "cell_type": "code",
   "execution_count": 61,
   "metadata": {},
   "outputs": [
    {
     "name": "stdout",
     "output_type": "stream",
     "text": [
      "Remember to Save\n"
     ]
    }
   ],
   "source": [
    "# [ ] print combined string \"Remember to\" and the string variable remind_me from input above\n",
    "print(\"Remember to\",remind_me)\n"
   ]
  },
  {
   "cell_type": "code",
   "execution_count": 62,
   "metadata": {},
   "outputs": [
    {
     "data": {
      "text/plain": [
       "'3:00 on Mondayplan for graduationSave'"
      ]
     },
     "execution_count": 62,
     "metadata": {},
     "output_type": "execute_result"
    }
   ],
   "source": [
    "# [ ] Combine 3 variables from above with multiple strings\n",
    "meeting_time + meeting_subject + remind_me\n",
    "\n"
   ]
  },
  {
   "cell_type": "markdown",
   "metadata": {
    "collapsed": true
   },
   "source": [
    "### print() quotation marks"
   ]
  },
  {
   "cell_type": "code",
   "execution_count": 63,
   "metadata": {},
   "outputs": [
    {
     "name": "stdout",
     "output_type": "stream",
     "text": [
      "You're so smart!\n"
     ]
    }
   ],
   "source": [
    "# [ ] print a string sentence that will display an Apostrophe (')\n",
    "print(\"You're so smart!\")\n",
    "\n"
   ]
  },
  {
   "cell_type": "code",
   "execution_count": 64,
   "metadata": {},
   "outputs": [
    {
     "name": "stdout",
     "output_type": "stream",
     "text": [
      "Why would you say \"NO\"?\n"
     ]
    }
   ],
   "source": [
    "# [ ] print a string sentence that will display a quote(\") or quotes\n",
    "print('Why would you say \"NO\"?')\n",
    "\n"
   ]
  },
  {
   "cell_type": "markdown",
   "metadata": {
    "collapsed": true
   },
   "source": [
    "## Boolean string tests"
   ]
  },
  {
   "cell_type": "markdown",
   "metadata": {},
   "source": [
    "### Vehicle tests  \n",
    "#### get user input for a variable named vehicle  \n",
    "print the following tests results  \n",
    "- check True or False if vehicle is All alphabetical characters using .isalpha()  \n",
    "- check True or False if vehicle is only All alphabetical & numeric characters  \n",
    "- check True or False if vehicle is Capitalized (first letter only)  \n",
    "- check True or False if vehicle is All lowercase  \n",
    "- **bonus** print description for each test (e.g.- `\"All Alpha: True\"`)"
   ]
  },
  {
   "cell_type": "code",
   "execution_count": 70,
   "metadata": {},
   "outputs": [
    {
     "data": {
      "text/plain": [
       "True"
      ]
     },
     "execution_count": 70,
     "metadata": {},
     "output_type": "execute_result"
    }
   ],
   "source": [
    "# [ ] complete vehicle tests \n",
    "\n",
    "\"vehicle\".isalpha()\n"
   ]
  },
  {
   "cell_type": "code",
   "execution_count": 72,
   "metadata": {},
   "outputs": [
    {
     "data": {
      "text/plain": [
       "False"
      ]
     },
     "execution_count": 72,
     "metadata": {},
     "output_type": "execute_result"
    }
   ],
   "source": [
    "# [ ] print True or False if color starts with \"b\" \n",
    "\n",
    "\"color\".startswith(\"b\")"
   ]
  },
  {
   "cell_type": "markdown",
   "metadata": {},
   "source": [
    "## Sting formatting"
   ]
  },
  {
   "cell_type": "code",
   "execution_count": 87,
   "metadata": {},
   "outputs": [
    {
     "name": "stdout",
     "output_type": "stream",
     "text": [
      "The time is noon.\n"
     ]
    }
   ],
   "source": [
    "# [ ] print the string variable capital_this Capitalizing only the first letter\n",
    "capitalize_this = \"the TIME is Noon.\"\n",
    "(capitalize_this.capitalize())\n",
    "print(capitalize_this.capitalize())"
   ]
  },
  {
   "cell_type": "code",
   "execution_count": 88,
   "metadata": {},
   "outputs": [
    {
     "name": "stdout",
     "output_type": "stream",
     "text": [
      "Who WRITES like This?\n"
     ]
    }
   ],
   "source": [
    "# print the string variable swap_this in swapped case\n",
    "swap_this = \"wHO writes LIKE tHIS?\"\n",
    "swap_this.swapcase()\n",
    "print(swap_this.swapcase())"
   ]
  },
  {
   "cell_type": "code",
   "execution_count": 90,
   "metadata": {},
   "outputs": [
    {
     "data": {
      "text/plain": [
       "'can you hear me?'"
      ]
     },
     "execution_count": 90,
     "metadata": {},
     "output_type": "execute_result"
    }
   ],
   "source": [
    "# print the string variable whisper_this in all lowercase\n",
    "whisper_this = \"Can you hear me?\"\n",
    "\n",
    "whisper_this.lower()"
   ]
  },
  {
   "cell_type": "code",
   "execution_count": 92,
   "metadata": {},
   "outputs": [
    {
     "data": {
      "text/plain": [
       "'CAN YOU HEAR ME NOW!?'"
      ]
     },
     "execution_count": 92,
     "metadata": {},
     "output_type": "execute_result"
    }
   ],
   "source": [
    "# print the string variable yell_this in all UPPERCASE\n",
    "yell_this = \"Can you hear me Now!?\"\n",
    "\n",
    "yell_this.upper()"
   ]
  },
  {
   "cell_type": "code",
   "execution_count": 98,
   "metadata": {},
   "outputs": [
    {
     "name": "stdout",
     "output_type": "stream",
     "text": [
      "THIS week WE LEARN How to input using code\n"
     ]
    }
   ],
   "source": [
    "#format input using .upper(), .lower(), .swapcase, .capitalize()\n",
    "format_input = input('enter a string to reformat: ')\n",
    "\n",
    "print(\"this\".upper(),\"week\".lower(),\"we learn\".swapcase(),\"how to input using code\".capitalize())"
   ]
  },
  {
   "cell_type": "markdown",
   "metadata": {},
   "source": [
    "### input() formatting"
   ]
  },
  {
   "cell_type": "code",
   "execution_count": 103,
   "metadata": {},
   "outputs": [
    {
     "name": "stdout",
     "output_type": "stream",
     "text": [
      "red\n"
     ]
    }
   ],
   "source": [
    "# [ ] get user input for a variable named color\n",
    "# [ ] modify color to be all lowercase and print\n",
    "color = input(\"What is your favorite color? \").lower()\n",
    "print(color)\n"
   ]
  },
  {
   "cell_type": "code",
   "execution_count": 2,
   "metadata": {},
   "outputs": [
    {
     "name": "stdout",
     "output_type": "stream",
     "text": [
      "saved\n"
     ]
    }
   ],
   "source": [
    "# [ ] get user input using variable remind_me and format to all **lowercase** and print\n",
    "# [ ] test using input with mixed upper and lower cases\n",
    "remind_me = input(\"Save your work\").lower()\n",
    "print(remind_me)\n"
   ]
  },
  {
   "cell_type": "code",
   "execution_count": 5,
   "metadata": {},
   "outputs": [
    {
     "name": "stdout",
     "output_type": "stream",
     "text": [
      "YELL\n"
     ]
    }
   ],
   "source": [
    "# [] get user input for the variable yell_this and format as a \"YELL\" to ALL CAPS\n",
    "yell_this = input(\"Type yell\").upper()\n",
    "print(yell_this)\n"
   ]
  },
  {
   "cell_type": "code",
   "execution_count": null,
   "metadata": {
    "collapsed": true
   },
   "outputs": [],
   "source": []
  },
  {
   "cell_type": "markdown",
   "metadata": {},
   "source": [
    "## \"in\" keyword\n",
    "### boolean: short_str in long_str"
   ]
  },
  {
   "cell_type": "code",
   "execution_count": 10,
   "metadata": {},
   "outputs": [
    {
     "name": "stdout",
     "output_type": "stream",
     "text": [
      "Is 'Cat' in the input? False\n"
     ]
    }
   ],
   "source": [
    "# [ ] get user input for the name of some animals in the variable animals_input\n",
    "animals_input = input('Whats your favorite animal? ').capitalize()\n",
    "\n",
    "# [ ] print true or false if 'cat' is in the string variable animals_input\n",
    "print(\"Is 'Cat' in the input?\", 'Cat' in animals_input)\n"
   ]
  },
  {
   "cell_type": "code",
   "execution_count": 18,
   "metadata": {
    "collapsed": true
   },
   "outputs": [
    {
     "name": "stdout",
     "output_type": "stream",
     "text": [
      "Is 'blue' in the input? True\n"
     ]
    }
   ],
   "source": [
    "# [ ] get user input for color\n",
    "color = input('What is your favorite color? ').lower()\n",
    "\n",
    "# [ ] print True or False for starts with \"b\"\n",
    "print(\"Is 'blue' in the input?\", 'blue' in color)\n",
    "\n",
    "# [ ] print color variable value exactly as input \n",
    "#     test with input: \"Blue\", \"BLUE\", \"bLUE\"\n",
    "\n"
   ]
  },
  {
   "cell_type": "markdown",
   "metadata": {},
   "source": [
    "## Program: guess what I'm reading\n",
    "### short_str in long_str\n",
    "\n",
    "1. **[ ]** get user **`input`** for a single word describing something that can be read \n",
    " save in a variable called **can_read**  \n",
    " e.g. - \"website\", \"newspaper\", \"blog\", \"textbook\"  \n",
    " &nbsp;  \n",
    "2. **[ ]** get user **`input`** for 3 things can be read  \n",
    " save in a variable called **can_read_things**  \n",
    "&nbsp;  \n",
    "\n",
    "3. **[ ]** print **`true`** if the **can_read** string is found  \n",
    " **in** the **can_read_things** string variable\n"
   ]
  },
  {
   "cell_type": "code",
   "execution_count": 19,
   "metadata": {},
   "outputs": [
    {
     "name": "stdout",
     "output_type": "stream",
     "text": [
      "Is the single word found in the list of things?  True\n"
     ]
    }
   ],
   "source": [
    "# project: \"guess what I'm reading\"\n",
    "\n",
    "# 1[ ] get 1 word input for can_read variable\n",
    "can_read = input(\"Enter a single word for something that can be read: \")\n",
    "\n",
    "# 2[ ] get 3 things input for can_read_things variable\n",
    "can_read_things = input(\"Enter 3 things that can be read, seperated by commas: \")\n",
    "\n",
    "# 3[ ] print True if can_read is in can_read_things\n",
    "is_found = can_read.lower() in can_read_things.lower()\n",
    "print(\"Is the single word found in the list of things? \", is_found)\n",
    "\n",
    "# [] challenge: format the output to read \"item found = True\" (or false)\n",
    "# hint: look print formatting exercises\n",
    "\n"
   ]
  },
  {
   "cell_type": "markdown",
   "metadata": {},
   "source": [
    "## Program: Allergy Check\n",
    "\n",
    "1. **[ ]** get user **`input`** for categories of food eaten in the last 24 hours  \n",
    " save in a variable called **input_test**  \n",
    "\n",
    "2. **[ ]** print **`True`** if \"dairy\" is in the **input_test** string  \n",
    "3. **[ ]** Test the code so far  \n",
    "4. **[ ]** repeat the process checking the input for \"nuts\", **challenge** add \"Seafood\" and \"chocolate\"  \n",
    "5. **[ ]** Test your code  \n",
    "  \n",
    "6. **[ ] challenge:** make your code work for input regardless of case, e.g. - print **`True`** for \"Nuts\", \"NuTs\", \"NUTS\" or \"nuts\"  \n"
   ]
  },
  {
   "cell_type": "code",
   "execution_count": 20,
   "metadata": {},
   "outputs": [
    {
     "name": "stdout",
     "output_type": "stream",
     "text": [
      "Dairy is in input: True\n",
      "Nuts is in input: False\n",
      "Seafood is in input: False\n",
      "Chocolate is in input: False\n"
     ]
    }
   ],
   "source": [
    "# Allergy check \n",
    "\n",
    "# 1[ ] get input for test (prompt user to enter something like \"nuts\" or \"dairy\" to store in variable named \"test\")\n",
    "input_test = input(\"Categories of food eaten in the last 24 hours? \").capitalize()\n",
    "\n",
    "# 2/3[ ] print True if \"dairy\" is in the input or False if not\n",
    "print(\"Dairy is in input:\", \"Dairy\" in input_test)\n",
    "\n",
    "# 4[ ] Check if \"nuts\" are in the input\n",
    "print(\"Nuts is in input:\", \"Nuts\" in input_test)\n",
    "\n",
    "# 4+[ ] Challenge: Check if \"seafood\" is in the input\n",
    "print(\"Seafood is in input:\", \"Seafood\" in input_test)\n",
    "\n",
    "# 4+[ ] Challenge: Check if \"chocolate\" is in the input\n",
    "print(\"Chocolate is in input:\", \"Chocolate\" in input_test)\n"
   ]
  },
  {
   "cell_type": "markdown",
   "metadata": {},
   "source": [
    "[Terms of use](http://go.microsoft.com/fwlink/?LinkID=206977) &nbsp; [Privacy & cookies](https://go.microsoft.com/fwlink/?LinkId=521839) &nbsp; © 2017 Microsoft"
   ]
  }
 ],
 "metadata": {
  "anaconda-cloud": {},
  "kernelspec": {
   "display_name": "Python 3",
   "language": "python",
   "name": "python3"
  },
  "language_info": {
   "codemirror_mode": {
    "name": "ipython",
    "version": 3
   },
   "file_extension": ".py",
   "mimetype": "text/x-python",
   "name": "python",
   "nbconvert_exporter": "python",
   "pygments_lexer": "ipython3",
   "version": "3.13.1"
  }
 },
 "nbformat": 4,
 "nbformat_minor": 1
}
